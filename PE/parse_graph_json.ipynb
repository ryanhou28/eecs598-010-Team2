{
 "cells": [
  {
   "cell_type": "code",
   "execution_count": 1,
   "metadata": {},
   "outputs": [],
   "source": [
    "import json"
   ]
  },
  {
   "cell_type": "code",
   "execution_count": 24,
   "metadata": {},
   "outputs": [],
   "source": [
    "def load_json_file(name):\n",
    "\n",
    "    with open(name) as json_data:\n",
    "        d = json.load(json_data)\n",
    "        json_data.close()\n",
    "    \n",
    "    return d\n",
    "\n",
    "def get_counts(d):\n",
    "\n",
    "    count_dict = {}\n",
    "\n",
    "    for thing in d['graph']:\n",
    "        name = thing['name']\n",
    "\n",
    "        if name in count_dict:\n",
    "            count_dict[name] += 1\n",
    "        else:\n",
    "            count_dict[name] = 1\n",
    "    \n",
    "    return count_dict\n",
    "\n",
    "\n",
    "jj_count_dict = {\n",
    "    \"JTL\" : 2,\n",
    "    \"DRO\" : 6,\n",
    "    \"DRO_C\" : 13,\n",
    "    \"DRO_SR\" : 13,\n",
    "    \"MUX\" : 15,\n",
    "    \"M\" : 7,\n",
    "    \"S\" : 3,\n",
    "    \"C_INV\" : 3,\n",
    "    \"C\" : 5,\n",
    "    'InGen' : 0,\n",
    "}"
   ]
  },
  {
   "cell_type": "code",
   "execution_count": 25,
   "metadata": {},
   "outputs": [
    {
     "name": "stdout",
     "output_type": "stream",
     "text": [
      "{'InGen': 1, 'S': 127, 'DRO': 128, 'JTL': 127}\n",
      "1403\n"
     ]
    },
    {
     "data": {
      "text/plain": [
       "\"\\n'write_control_memory_state.json'\\n\\nJJ counts\\n\\nJTL : 2\\nDRO : 6\\nS : 3\\n\\n127 Splitters\\n128 DROs\\n127 JTLs\\n\\n127 * 3 + 128 * 6 + 127 * 2 = 1403\\n\\n\""
      ]
     },
     "execution_count": 25,
     "metadata": {},
     "output_type": "execute_result"
    }
   ],
   "source": [
    "name = 'write_control_memory_state.json'\n",
    "\n",
    "d = load_json_file(name)\n",
    "counts = get_counts(d)\n",
    "print(counts)\n",
    "\n",
    "jj_sum = 0\n",
    "for key in counts:\n",
    "    num = counts[key]\n",
    "    jjs = jj_count_dict[key]\n",
    "\n",
    "    jj_sum += num * jjs\n",
    "\n",
    "print(jj_sum)\n",
    "\n",
    "\"\"\"\n",
    "'write_control_memory_state.json'\n",
    "\n",
    "JJ counts\n",
    "\n",
    "JTL : 2\n",
    "DRO : 6\n",
    "S : 3\n",
    "\n",
    "127 Splitters\n",
    "128 DROs\n",
    "127 JTLs\n",
    "\n",
    "127 * 3 + 128 * 6 + 127 * 2 = 1403\n",
    "\n",
    "\"\"\""
   ]
  },
  {
   "cell_type": "code",
   "execution_count": 26,
   "metadata": {},
   "outputs": [
    {
     "name": "stdout",
     "output_type": "stream",
     "text": [
      "{'InGen': 3, 'S': 34301, 'DRO_C': 256, 'DRO': 33280, 'M': 512, 'JTL': 32512}\n",
      "374519\n"
     ]
    },
    {
     "data": {
      "text/plain": [
       "\"\\n'write_control_memory_state.json'\\n\\nJJ counts\\n\\nJTL : 2\\nDRO : 6\\nDRO_C : 13\\nM : 7\\nS : 3\\n\\n34301 Splitters\\n33280 DROs\\n256 DRO_Cs\\n512 Mergers\\n32512 JTLs\\n\\n'S': 34301, 'DRO_C': 256, 'DRO': 33280, 'M': 512, 'JTL': 32512\\n\\n3 * 34301 + 13 * 256 + 6 * 33280 + 7 * 512 + 3 * 32512\\n\\n34301 * 3 + 33280 * 6 + 32512 * 2 + 256 * 13 + 512 * 7 = \\n\\n\\n374,519\\n\""
      ]
     },
     "execution_count": 26,
     "metadata": {},
     "output_type": "execute_result"
    }
   ],
   "source": [
    "name = 'weight_memory_state.json'\n",
    "\n",
    "d = load_json_file(name)\n",
    "counts = get_counts(d)\n",
    "print(counts)\n",
    "\n",
    "jj_sum = 0\n",
    "for key in counts:\n",
    "    num = counts[key]\n",
    "    jjs = jj_count_dict[key]\n",
    "\n",
    "    jj_sum += num * jjs\n",
    "\n",
    "print(jj_sum)\n",
    "\n",
    "\"\"\"\n",
    "'write_control_memory_state.json'\n",
    "\n",
    "JJ counts\n",
    "\n",
    "JTL : 2\n",
    "DRO : 6\n",
    "DRO_C : 13\n",
    "M : 7\n",
    "S : 3\n",
    "\n",
    "34301 Splitters\n",
    "33280 DROs\n",
    "256 DRO_Cs\n",
    "512 Mergers\n",
    "32512 JTLs\n",
    "\n",
    "'S': 34301, 'DRO_C': 256, 'DRO': 33280, 'M': 512, 'JTL': 32512\n",
    "\n",
    "3 * 34301 + 13 * 256 + 6 * 33280 + 7 * 512 + 3 * 32512\n",
    "\n",
    "34301 * 3 + 33280 * 6 + 32512 * 2 + 256 * 13 + 512 * 7 = \n",
    "\n",
    "\n",
    "374,519\n",
    "\"\"\""
   ]
  },
  {
   "cell_type": "code",
   "execution_count": 27,
   "metadata": {},
   "outputs": [
    {
     "name": "stdout",
     "output_type": "stream",
     "text": [
      "{'InGen': 3, 'S': 797, 'DRO_C': 8, 'DRO': 16, 'M': 16, 'MUX': 256, 'JTL': 8}\n",
      "6559\n"
     ]
    },
    {
     "data": {
      "text/plain": [
       "\"\\n'write_control_memory_state.json'\\n\\nJJ counts\\n\\nJTL : 2\\nDRO : 6\\nDRO_C : 13\\nMUX : 15\\nM : 7\\nS : 3\\n\\n797 Splitters\\n16 DROs\\n8 DRO_Cs\\n16 Mergers\\n8 JTLs\\n256 MUX\\n\\n797 * 3 + 16 * 6 + 8 * 2 + 8 * 13 + 16 * 7 + 256 * 15 = \\n\\n\""
      ]
     },
     "execution_count": 27,
     "metadata": {},
     "output_type": "execute_result"
    }
   ],
   "source": [
    "name = 'input_feature_memory.json'\n",
    "\n",
    "d = load_json_file(name)\n",
    "counts = get_counts(d)\n",
    "print(counts)\n",
    "\n",
    "jj_sum = 0\n",
    "for key in counts:\n",
    "    num = counts[key]\n",
    "    jjs = jj_count_dict[key]\n",
    "\n",
    "    jj_sum += num * jjs\n",
    "\n",
    "print(jj_sum)\n",
    "\n",
    "\"\"\"\n",
    "\n",
    "JJ counts\n",
    "\n",
    "JTL : 2\n",
    "DRO : 6\n",
    "DRO_C : 13\n",
    "MUX : 15\n",
    "M : 7\n",
    "S : 3\n",
    "\n",
    "797 Splitters\n",
    "16 DROs\n",
    "8 DRO_Cs\n",
    "16 Mergers\n",
    "8 JTLs\n",
    "256 MUX\n",
    "\n",
    "797 * 3 + 16 * 6 + 8 * 2 + 8 * 13 + 16 * 7 + 256 * 15 = \n",
    "\n",
    "\"\"\""
   ]
  },
  {
   "cell_type": "code",
   "execution_count": 28,
   "metadata": {},
   "outputs": [
    {
     "name": "stdout",
     "output_type": "stream",
     "text": [
      "{'InGen': 1, 'S': 5439, 'DRO_C': 736, 'DRO': 288, 'JTL': 7232, 'DRO_SR': 1024, 'C_INV': 1824, 'C': 1536}\n",
      "68541\n"
     ]
    },
    {
     "data": {
      "text/plain": [
       "\"\\n'write_control_memory_state.json'\\n\\nJJ counts\\n\\nJTL : 2\\nDRO : 6\\nDRO_C : 13\\nDRO_SR : 13\\nMUX : 15\\nM : 7\\nS : 3\\nC_INV : 3\\nC : 5\\n\\n'S': 5439, 'DRO_C': 736, 'DRO': 288, 'JTL': 7232, 'DRO_SR': 1024, 'C_INV': 1824, 'C': 1536\\n\\n5439 * 3 + 736 * 13 + 288 * 6 + 7232 * 2 + 1024 * 13 + 1824 * 3 + 1536 * 5\\n\\n\\n\""
      ]
     },
     "execution_count": 28,
     "metadata": {},
     "output_type": "execute_result"
    }
   ],
   "source": [
    "name = 'processing_element_array.json'\n",
    "\n",
    "d = load_json_file(name)\n",
    "counts = get_counts(d)\n",
    "print(counts)\n",
    "\n",
    "jj_sum = 0\n",
    "for key in counts:\n",
    "    num = counts[key]\n",
    "    jjs = jj_count_dict[key]\n",
    "\n",
    "    jj_sum += num * jjs\n",
    "\n",
    "print(jj_sum)\n",
    "\n",
    "\"\"\"\n",
    "JJ counts\n",
    "\n",
    "JTL : 2\n",
    "DRO : 6\n",
    "DRO_C : 13\n",
    "DRO_SR : 13\n",
    "MUX : 15\n",
    "M : 7\n",
    "S : 3\n",
    "C_INV : 3\n",
    "C : 5\n",
    "\n",
    "'S': 5439, 'DRO_C': 736, 'DRO': 288, 'JTL': 7232, 'DRO_SR': 1024, 'C_INV': 1824, 'C': 1536\n",
    "\n",
    "5439 * 3 + 736 * 13 + 288 * 6 + 7232 * 2 + 1024 * 13 + 1824 * 3 + 1536 * 5\n",
    "\n",
    "\n",
    "\"\"\""
   ]
  },
  {
   "cell_type": "code",
   "execution_count": 31,
   "metadata": {},
   "outputs": [
    {
     "name": "stdout",
     "output_type": "stream",
     "text": [
      "{'InGen': 515, 'S': 74300, 'M': 784, 'MUX': 256, 'JTL': 106119, 'DRO_C': 1000, 'DRO': 33712, 'C': 18112, 'DRO_SR': 1024, 'C_INV': 18368}\n",
      "818714\n"
     ]
    },
    {
     "data": {
      "text/plain": [
       "\"\\n'write_control_memory_state.json'\\n\\nJJ counts\\n\\nJTL : 2\\nDRO : 6\\nDRO_C : 13\\nDRO_SR : 13\\nMUX : 15\\nM : 7\\nS : 3\\nC_INV : 3\\nC : 5\\n\\n'S': 172482, 'M': 784, 'MUX': 256, 'JTL': 204301, 'DRO_C': 1000, 'DRO': 131894, 'C': 18112, 'DRO_SR': 1024, 'C_INV': 18368}\\n\\n3 * 172482 + 7 * 784 + 15 * 256 + 2 * 204301 + 13 * 1000 + 6 * 131894 + 5 * 18112 + 13 * 1024 + 3 * 18368\\n\\n\""
      ]
     },
     "execution_count": 31,
     "metadata": {},
     "output_type": "execute_result"
    }
   ],
   "source": [
    "name = 'accelerator.json'\n",
    "\n",
    "d = load_json_file(name)\n",
    "counts = get_counts(d)\n",
    "print(counts)\n",
    "\n",
    "jj_sum = 0\n",
    "for key in counts:\n",
    "    num = counts[key]\n",
    "    jjs = jj_count_dict[key]\n",
    "\n",
    "    jj_sum += num * jjs\n",
    "\n",
    "print(jj_sum)\n",
    "\n",
    "\"\"\"\n",
    "'write_control_memory_state.json'\n",
    "\n",
    "JJ counts\n",
    "\n",
    "JTL : 2\n",
    "DRO : 6\n",
    "DRO_C : 13\n",
    "DRO_SR : 13\n",
    "MUX : 15\n",
    "M : 7\n",
    "S : 3\n",
    "C_INV : 3\n",
    "C : 5\n",
    "\n",
    "'{'InGen': 515, 'S': 74300, 'M': 784, 'MUX': 256, 'JTL': 106119, 'DRO_C': 1000, 'DRO': 33712, 'C': 18112, 'DRO_SR': 1024, 'C_INV': 18368}\n",
    "\n",
    "3 * 172482 + 7 * 784 + 15 * 256 + 2 * 204301 + 13 * 1000 + 6 * 131894 + 5 * 18112 + 13 * 1024 + 3 * 18368\n",
    "\n",
    "\"\"\""
   ]
  },
  {
   "cell_type": "code",
   "execution_count": null,
   "metadata": {},
   "outputs": [],
   "source": [
    "\n",
    "\n",
    "\"\"\"\n",
    "\n",
    "write memory\n",
    "{'InGen': 1, 'S': 127, 'DRO': 128, 'JTL': 127}\n",
    "\n",
    "weight memory\n",
    "{'InGen': 3, 'S': 34301, 'DRO_C': 256, 'DRO': 33280, 'M': 512, 'JTL': 32512}\n",
    "\n",
    "input feature memory\n",
    "{'InGen': 3, 'S': 797, 'DRO_C': 8, 'DRO': 16, 'M': 16, 'MUX': 256, 'JTL': 8}\n",
    "\n",
    "pe arr\n",
    "{'InGen': 1, 'S': 5439, 'DRO_C': 736, 'DRO': 288, 'JTL': 7232, 'DRO_SR': 1024, 'C_INV': 1824, 'C': 1536}\n",
    "\n",
    "acc\n",
    "'{'InGen': 515, 'S': 74300, 'M': 784, 'MUX': 256, 'JTL': 106119, 'DRO_C': 1000, 'DRO': 33712, 'C': 18112, 'DRO_SR': 1024, 'C_INV': 18368}\n",
    "\n",
    "other\n",
    "'{'InGen': 515, 'S': 33636, 'M': 256, 'JTL': 66,320, 'C': 18112, 'C_INV': 18368}\n",
    "\n",
    "\"\"\""
   ]
  }
 ],
 "metadata": {
  "kernelspec": {
   "display_name": "eecs573_2",
   "language": "python",
   "name": "python3"
  },
  "language_info": {
   "codemirror_mode": {
    "name": "ipython",
    "version": 3
   },
   "file_extension": ".py",
   "mimetype": "text/x-python",
   "name": "python",
   "nbconvert_exporter": "python",
   "pygments_lexer": "ipython3",
   "version": "3.10.13"
  }
 },
 "nbformat": 4,
 "nbformat_minor": 2
}
